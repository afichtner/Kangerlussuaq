{
 "cells": [
  {
   "cell_type": "markdown",
   "metadata": {},
   "source": [
    "# The Kangerlussuaq Algorithm"
   ]
  },
  {
   "cell_type": "code",
   "execution_count": null,
   "metadata": {},
   "outputs": [],
   "source": [
    "import ka as ka\n",
    "import numpy as np\n",
    "import matplotlib.pyplot as plt"
   ]
  },
  {
   "cell_type": "markdown",
   "metadata": {},
   "source": [
    "# 1. Input "
   ]
  },
  {
   "cell_type": "markdown",
   "metadata": {},
   "source": [
    "## 1.1. Cable properties"
   ]
  },
  {
   "cell_type": "code",
   "execution_count": null,
   "metadata": {},
   "outputs": [],
   "source": [
    "# Number of initial interpolation points.\n",
    "n=4\n",
    "\n",
    "# Maximum total length.\n",
    "L=7000.0\n",
    "\n",
    "# Channel spacing [m].\n",
    "dl=10.0\n",
    "\n",
    "x0 =np.zeros(n)\n",
    "x0[0]=0.0\n",
    "x0[1]=1500.0\n",
    "x0[2]=2500.0\n",
    "x0[3]=0.0\n",
    "\n",
    "y0= np.zeros(n)\n",
    "y0[0]=-200.0\n",
    "y0[1]=500.0\n",
    "y0[2]=-200.0\n",
    "y0[3]=-300.0\n",
    "\n",
    "# Initial weights for maximum length of cable segments (<=1.0).\n",
    "w0=np.ones(n-1)\n",
    "#w0[0]=0.0\n",
    "#w0[1]=0.2\n",
    "# Exponent for the updating of weights (<=1.0).\n",
    "m=1.0"
   ]
  },
  {
   "cell_type": "markdown",
   "metadata": {},
   "source": [
    "## 1.2. Sources"
   ]
  },
  {
   "cell_type": "code",
   "execution_count": null,
   "metadata": {},
   "outputs": [],
   "source": [
    "# Number of sources.\n",
    "ns=30\n",
    "\n",
    "# Source locations.\n",
    "xs = np.zeros(ns)\n",
    "xs[0:10]=0.0\n",
    "xs[10:20]=np.linspace(0.0,3000.0,10)\n",
    "xs[20:30]=np.linspace(0.0,3000.0,10)\n",
    "\n",
    "ys = np.zeros(ns)\n",
    "ys[0:10]=np.linspace(1000.0,3000.0,10)\n",
    "ys[10:20]=1000.0\n",
    "ys[20:30]=np.linspace(1000.0,3000.0,10)"
   ]
  },
  {
   "cell_type": "markdown",
   "metadata": {},
   "source": [
    "## 1.3. Random iteration parameters"
   ]
  },
  {
   "cell_type": "code",
   "execution_count": null,
   "metadata": {},
   "outputs": [],
   "source": [
    "# Maximum number of refinement stages.\n",
    "nit=5\n",
    "\n",
    "# Number of random trials per refinement stage.\n",
    "N=5000"
   ]
  },
  {
   "cell_type": "markdown",
   "metadata": {},
   "source": [
    "## 1.4. Offset and azimuth bins for optimisation"
   ]
  },
  {
   "cell_type": "code",
   "execution_count": null,
   "metadata": {},
   "outputs": [],
   "source": [
    "# Make offset bins.\n",
    "bins_offset=np.arange(0.0,4000.0,300.0)\n",
    "# Make azimuth bins.\n",
    "bins_azimuth=np.arange(0.0,np.pi,np.pi/20.0)"
   ]
  },
  {
   "cell_type": "markdown",
   "metadata": {},
   "source": [
    "## 1.5. Plot initial configuration"
   ]
  },
  {
   "cell_type": "code",
   "execution_count": null,
   "metadata": {},
   "outputs": [],
   "source": [
    "ka.plot(x0,y0,x0,y0,xs,ys,filename='./OUTPUT/initial_geometry.png')"
   ]
  },
  {
   "cell_type": "code",
   "execution_count": null,
   "metadata": {},
   "outputs": [],
   "source": [
    "xc,yc=ka.make_channel_coordinates(x0,y0,dl)"
   ]
  },
  {
   "cell_type": "code",
   "execution_count": null,
   "metadata": {},
   "outputs": [],
   "source": [
    "def chi_distance_azimuth(xs,ys,xc,yc,plot=False,filename=None):\n",
    "    \"\"\"\n",
    "    Compute cost function in distance and azimuth for all pairs of source coordinates (xs, ys) and channel\n",
    "    coordinates (xc,yc). \n",
    "    \"\"\"\n",
    "    \n",
    "    nl=len(xc)\n",
    "    l=np.sqrt((xc[1:nl]-xc[0:nl-1])**2 + (yc[1:nl]-yc[0:nl-1])**2)\n",
    "    \n",
    "    weights=[]\n",
    "    d=[]\n",
    "    phi=[]\n",
    "    \n",
    "    # March through all sources and compute distances and azimuths.\n",
    "    for i in range(ns): \n",
    "                \n",
    "        # Distance and azimuth per source.\n",
    "        d_s=np.sqrt((xc[0:nl]-xs[i])**2+(yc[0:nl]-ys[i])**2)\n",
    "        phi_s=np.arccos((xc[0:nl]-xs[i])/d_s)\n",
    "        \n",
    "        # Append to what we have so far.\n",
    "        d=np.append(d,d_s)\n",
    "        phi=np.append(phi,phi_s)\n",
    "        \n",
    "    # Check if any distance or azimuth fall into the bins. (Needed for histogram normalisation.)\n",
    "    if np.min(d)<np.max(bins_offset) and np.max(d)>np.min(bins_offset) and np.min(phi)<np.max(bins_azimuth) and np.max(phi)>np.min(bins_azimuth): \n",
    "        bins_filled=True\n",
    "    else:\n",
    "        bins_filled=False\n",
    "        \n",
    "    # Make a 2D normalised histogram.\n",
    "    hist,d_edges,phi_edges=np.histogram2d(d,phi,bins=[bins_offset,bins_azimuth],density=bins_filled)\n",
    "    \n",
    "    # Compute distance to the uniform distribution.\n",
    "    if bins_filled:\n",
    "        V=(bins_offset[-1]-bins_offset[0])*(bins_azimuth[-1]-bins_azimuth[0])\n",
    "        chi=np.sum(np.abs(hist-1.0/V)**2)\n",
    "    else: \n",
    "        chi=1.0\n",
    "    \n",
    "    # Plot 2D histogram.\n",
    "    if plot:\n",
    "        plt.figure(figsize=(12,12))\n",
    "        plt.hist2d(d,180.0*phi/np.pi,bins=[bins_offset,180.0*bins_azimuth/np.pi],density=bins_filled,cmap='binary')\n",
    "        plt.xlabel('offset [m]', labelpad=20)\n",
    "        plt.ylabel('azimuth [deg]', labelpad=20)\n",
    "        plt.colorbar()\n",
    "        plt.clim(0.0,5.0e-6)\n",
    "        plt.tight_layout()\n",
    "        \n",
    "        if filename: plt.savefig(filename,dpi=200,format='png')\n",
    "        \n",
    "        plt.show()\n",
    "    \n",
    "    # Return.\n",
    "    return chi"
   ]
  },
  {
   "cell_type": "code",
   "execution_count": null,
   "metadata": {},
   "outputs": [],
   "source": [
    "# Initial state.\n",
    "\n",
    "# Calculate initial length.\n",
    "l=np.sqrt((x0[1:n]-x0[0:n-1])**2 + (y0[1:n]-y0[0:n-1])**2)\n",
    "print(np.sum(l))\n",
    "\n",
    "# Calculate initial misfit and histogram.\n",
    "chi=chi_distance_azimuth(xs,ys,xc,yc,plot=True,filename='./OUTPUT/initial_histogram.png')\n",
    "print(chi)"
   ]
  },
  {
   "cell_type": "code",
   "execution_count": null,
   "metadata": {},
   "outputs": [],
   "source": [
    "# Loop over refinement stages.\n",
    "for i in range(nit):\n",
    "    \n",
    "    print('--- refinement stage %d -------------------------' % i)\n",
    "    \n",
    "    # Set the initial cable configuration.\n",
    "    if i==0:\n",
    "        x_init=x0.copy()\n",
    "        y_init=y0.copy()\n",
    "        w_init=w0.copy()\n",
    "        chi_opt=chi\n",
    "    else:\n",
    "        x_init=x_opt.copy()\n",
    "        y_init=y_opt.copy()\n",
    "        w_init=w.copy()\n",
    "        \n",
    "    # Loop over N random realisations within a refinement stage.\n",
    "    for it in range(N):\n",
    "\n",
    "        # Compute a random cable layout by one-stage refinement.\n",
    "        success,x,y,w=ka.insert_points(x_init.copy(),y_init.copy(),w_init.copy(),m,L,dl)\n",
    "        \n",
    "        # Further steps in case obstacle could be avoided.\n",
    "        if success:\n",
    "            \n",
    "            # Compute channel coordinates along the new cable layout.\n",
    "            xc,yc=ka.make_channel_coordinates(x,y,dl)\n",
    "\n",
    "            # Compute distance-azimuth cost function.\n",
    "            chi=chi_distance_azimuth(xs,ys,xc,yc)\n",
    "\n",
    "            # Update.\n",
    "            if chi<chi_opt:\n",
    "                chi_opt=chi\n",
    "                x_opt=x\n",
    "                y_opt=y\n",
    "                print('iteration = %d, cost = %g' %(it,chi))\n",
    "                \n",
    "    # Save best configuration for this stage.\n",
    "    filename='./OUTPUT/stage_'+str(i)+'_x.npy'\n",
    "    np.save(filename,x_opt)\n",
    "    filename='./OUTPUT/stage_'+str(i)+'_y.npy'\n",
    "    np.save(filename,y_opt)"
   ]
  },
  {
   "cell_type": "code",
   "execution_count": null,
   "metadata": {
    "scrolled": false
   },
   "outputs": [],
   "source": [
    "# Plot optimal layout.\n",
    "ka.plot(x0,y0,x_opt,y_opt,xs,ys,filename='./OUTPUT/final_geometry.png')\n",
    "\n",
    "# Plot final histogram and misfit.\n",
    "xc_opt,yc_opt=ka.make_channel_coordinates(x_opt,y_opt,dl)\n",
    "chi=chi_distance_azimuth(xs,ys,xc_opt,yc_opt,plot=True,filename='./OUTPUT/final_histogram.png')"
   ]
  },
  {
   "cell_type": "code",
   "execution_count": null,
   "metadata": {},
   "outputs": [],
   "source": [
    "n=len(x_opt)\n",
    "l_opt=np.sqrt((x_opt[1:n]-x_opt[0:n-1])**2 + (y_opt[1:n]-y_opt[0:n-1])**2)\n",
    "np.sum(l_opt)"
   ]
  }
 ],
 "metadata": {
  "kernelspec": {
   "display_name": "Python 3",
   "language": "python",
   "name": "python3"
  },
  "language_info": {
   "codemirror_mode": {
    "name": "ipython",
    "version": 3
   },
   "file_extension": ".py",
   "mimetype": "text/x-python",
   "name": "python",
   "nbconvert_exporter": "python",
   "pygments_lexer": "ipython3",
   "version": "3.8.3"
  }
 },
 "nbformat": 4,
 "nbformat_minor": 4
}
